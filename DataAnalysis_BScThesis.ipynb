{
  "nbformat": 4,
  "nbformat_minor": 0,
  "metadata": {
    "colab": {
      "provenance": [],
      "toc_visible": true,
      "authorship_tag": "ABX9TyOfsOfTXZ1sCYSK1m3k2i58",
      "include_colab_link": true
    },
    "kernelspec": {
      "name": "python3",
      "display_name": "Python 3"
    },
    "language_info": {
      "name": "python"
    }
  },
  "cells": [
    {
      "cell_type": "markdown",
      "metadata": {
        "id": "view-in-github",
        "colab_type": "text"
      },
      "source": [
        "<a href=\"https://colab.research.google.com/github/JorgeMoranBornemann/BScThesis/blob/main/DataAnalysis_BScThesis.ipynb\" target=\"_parent\"><img src=\"https://colab.research.google.com/assets/colab-badge.svg\" alt=\"Open In Colab\"/></a>"
      ]
    },
    {
      "cell_type": "markdown",
      "source": [
        "#**Permafrost thaw data analysis**\n",
        "\n",
        "The purpose of this notebook is to run through the steps, and explain, how the data analysis was performed.\n",
        "\n",
        "It will be divided into several parts.\n",
        "1. Importing data, libraries, dependencies\n",
        "2. SOC - Thaw depth regressions\n",
        "3. Himidity - Thaw depth regressions\n",
        "4. TDD pre-processing\n",
        "5. TTD - thaw depth regressions\n",
        "6. Impact of SOC & Humidity on TTD regression\n",
        "7. Impact of rainfall on TTD regression\n",
        "\n"
      ],
      "metadata": {
        "id": "4OGuQN-kBnOl"
      }
    },
    {
      "cell_type": "code",
      "source": [
        "#Importing required libraries\n",
        "import pandas as pd\n",
        "import numpy as np\n",
        "import math\n",
        "import matplotlib.pyplot as plt\n",
        "import datetime as dt\n",
        "\n",
        "#needed to use google drive\n",
        "from google.colab import drive\n",
        "\n",
        "\n",
        "\n"
      ],
      "metadata": {
        "id": "2yX75ezk_iev"
      },
      "execution_count": 1,
      "outputs": []
    },
    {
      "cell_type": "code",
      "source": [
        "# importing the datasets and converting them to pandas dataframes\n",
        "\n",
        "# !!!To run this notebook, shortcut the shared folder 'BScThesis' to your drive!!!\n",
        "# Google collab will need to be authenticated to use google drive\n",
        "\n",
        "\n",
        "drive.mount('/gdrive')\n",
        "path = \"/gdrive/MyDrive/BScThesis/Datasets\"\n",
        "%cd /gdrive/MyDrive/BScThesis/Datasets\n",
        "%ls\n",
        "\n",
        "# paths for the datasets\n",
        "path_soilmoisture = path+\"/all_soilmoisture.csv\"\n",
        "path_ibuttons_overview = path+\"/ibuttons_overview.csv\"\n",
        "path_SoilTParsed = path+\"/SoilTParsed.csv\"\n",
        "path_all_thawdepth = path+\"/all_thawdepth.csv\"\n",
        "path_irrigationlog = path+\"/irrigationlog.csv\"\n",
        "path_plotcoordinates = path+\"/plot_coordinates.csv\"\n",
        "\n",
        "# loading the CSV data as pandas df\n",
        "df_sm = pd.read_csv(path_soilmoisture)\n",
        "df_ib = pd.read_csv(path_ibuttons_overview)\n",
        "df_sT = pd.read_csv(path_SoilTParsed)\n",
        "df_tD = pd.read_csv(path_all_thawdepth)\n",
        "df_ir = pd.read_csv(path_irrigationlog)\n",
        "df_pl = pd.read_csv(path_plotcoordinates)\n"
      ],
      "metadata": {
        "id": "YinQfpnznCrj"
      },
      "execution_count": 2,
      "outputs": []
    },
    {
      "cell_type": "code",
      "source": [
        "print(SM)"
      ],
      "metadata": {
        "colab": {
          "base_uri": "https://localhost:8080/"
        },
        "id": "2eSmYPPHFwJU",
        "outputId": "e6b786aa-e6d6-4048-c14e-5e018b365329"
      },
      "execution_count": 3,
      "outputs": [
        {
          "output_type": "stream",
          "name": "stdout",
          "text": [
            "     location treatment  pair plot       date  DOY  year  cumLS2022  \\\n",
            "0           1         C     1  1C1  7/21/2022  202  2022          0   \n",
            "1           1         I     1  1I1  7/21/2022  202  2022          0   \n",
            "2           1         C     2  1C2  7/21/2022  202  2022          0   \n",
            "3           1         I     2  1I2  7/21/2022  202  2022          0   \n",
            "4           1         C     3  1C3  7/21/2022  202  2022          0   \n",
            "..        ...       ...   ...  ...        ...  ...   ...        ...   \n",
            "751         5         c     2  5C2  7/28/2022  209  2022         10   \n",
            "752         5         i     3  5I3  7/28/2022  209  2022         10   \n",
            "753         5         c     3  5C3  7/28/2022  209  2022         10   \n",
            "754         5         c     6  5C6  7/28/2022  209  2022         10   \n",
            "755         5         i     6  5I6  7/28/2022  209  2022         10   \n",
            "\n",
            "     cumES2023  cumLS2023  ...     B     C     D     E     F     G     H  \\\n",
            "0            0        0.0  ...    31  26.3  21.8  20.8  21.5  21.2  25.8   \n",
            "1            0        0.0  ...  27.9  27.6  29.6    34  33.6  18.5  27.2   \n",
            "2            0        0.0  ...  20.4  22.1  28.1  29.8  19.9  28.6  26.7   \n",
            "3            0        0.0  ...  32.9  29.3    39    33  28.6  31.5  25.8   \n",
            "4            0        0.0  ...  30.9  21.4  31.4  33.7  30.8  30.2  32.2   \n",
            "..         ...        ...  ...   ...   ...   ...   ...   ...   ...   ...   \n",
            "751          0        0.0  ...  17.9  23.1    18  25.6  16.3  14.5  22.7   \n",
            "752          0        0.0  ...  16.6  31.4  29.8  26.7  25.7  19.7  33.1   \n",
            "753          0        0.0  ...  29.9    32  27.3  13.4  24.5  23.7  14.4   \n",
            "754          0        0.0  ...  30.6  18.5  10.3    10  17.4   8.2  32.5   \n",
            "755          0        0.0  ...  12.4  23.6  17.5  21.5  14.5  26.9  17.9   \n",
            "\n",
            "        I round                   note  \n",
            "0    22.4   0.0  *) round 0 = baseline  \n",
            "1    31.3   0.0                    NaN  \n",
            "2    25.1   0.0                    NaN  \n",
            "3    34.3   0.0                    NaN  \n",
            "4    30.8   0.0                    NaN  \n",
            "..    ...   ...                    ...  \n",
            "751    18   NaN                    NaN  \n",
            "752  33.9   NaN                    NaN  \n",
            "753  22.4   NaN                    NaN  \n",
            "754  22.1   NaN                    NaN  \n",
            "755  14.3   NaN                    NaN  \n",
            "\n",
            "[756 rows x 21 columns]\n"
          ]
        }
      ]
    },
    {
      "cell_type": "markdown",
      "source": [
        "**4. TTD-preprocessing**\n",
        "\n",
        "In the following section, we extract the number of thawing degree days (TTD) in consecutive 10-day periods from the SoilTParsed.csv dataset. We also extract the thaw depth at the end of this 10-day period. After this, we will substract each subsequent thaw depth to get the thaw depth difference after each 10-day period, ΔTD. This data will then be stored in a separate dataset."
      ],
      "metadata": {
        "id": "F29qQZNctt3k"
      }
    },
    {
      "cell_type": "code",
      "source": [
        "for col in df_sT.columns:\n",
        "  print(col)"
      ],
      "metadata": {
        "colab": {
          "base_uri": "https://localhost:8080/"
        },
        "id": "Of_h0uFETocQ",
        "outputId": "f9889915-cb13-4719-b683-efa1fe926c17"
      },
      "execution_count": null,
      "outputs": [
        {
          "output_type": "stream",
          "name": "stdout",
          "text": [
            "Unnamed: 0\n",
            "Time\n",
            "Temp\n",
            "Plot\n",
            "Depth\n",
            "Location\n",
            "Day\n",
            "Month\n",
            "Year\n",
            "Hour\n",
            "Min\n",
            "TimeParsed\n",
            "Treatment\n"
          ]
        }
      ]
    },
    {
      "cell_type": "code",
      "source": [
        "#adds a DOY column to the dataframe\n",
        "df_sT['Date-conv'] = pd.to_datetime(df_sT[['Year', 'Month', 'Day']])\n",
        "df_sT['DOY'] = df_sT['Date-conv'].dt.dayofyear\n",
        "\n",
        "\n",
        "df_sT.loc[['DOY']]\n",
        "\n",
        "\n",
        "\n",
        "\n",
        "\n",
        "\n"
      ],
      "metadata": {
        "colab": {
          "base_uri": "https://localhost:8080/",
          "height": 407
        },
        "id": "-sCFFZ3WeI1o",
        "outputId": "9abdf596-c937-4dc5-c504-1aa1d0e1b768"
      },
      "execution_count": null,
      "outputs": [
        {
          "output_type": "error",
          "ename": "KeyError",
          "evalue": "ignored",
          "traceback": [
            "\u001b[0;31m---------------------------------------------------------------------------\u001b[0m",
            "\u001b[0;31mKeyError\u001b[0m                                  Traceback (most recent call last)",
            "\u001b[0;32m<ipython-input-14-e2e058d4581e>\u001b[0m in \u001b[0;36m<cell line: 6>\u001b[0;34m()\u001b[0m\n\u001b[1;32m      4\u001b[0m \u001b[0;34m\u001b[0m\u001b[0m\n\u001b[1;32m      5\u001b[0m \u001b[0;34m\u001b[0m\u001b[0m\n\u001b[0;32m----> 6\u001b[0;31m \u001b[0mdf_sT\u001b[0m\u001b[0;34m.\u001b[0m\u001b[0mloc\u001b[0m\u001b[0;34m[\u001b[0m\u001b[0;34m[\u001b[0m\u001b[0;34m'DOY'\u001b[0m\u001b[0;34m]\u001b[0m\u001b[0;34m]\u001b[0m\u001b[0;34m\u001b[0m\u001b[0;34m\u001b[0m\u001b[0m\n\u001b[0m\u001b[1;32m      7\u001b[0m \u001b[0;34m\u001b[0m\u001b[0m\n\u001b[1;32m      8\u001b[0m \u001b[0;34m\u001b[0m\u001b[0m\n",
            "\u001b[0;32m/usr/local/lib/python3.10/dist-packages/pandas/core/indexing.py\u001b[0m in \u001b[0;36m__getitem__\u001b[0;34m(self, key)\u001b[0m\n\u001b[1;32m   1071\u001b[0m \u001b[0;34m\u001b[0m\u001b[0m\n\u001b[1;32m   1072\u001b[0m             \u001b[0mmaybe_callable\u001b[0m \u001b[0;34m=\u001b[0m \u001b[0mcom\u001b[0m\u001b[0;34m.\u001b[0m\u001b[0mapply_if_callable\u001b[0m\u001b[0;34m(\u001b[0m\u001b[0mkey\u001b[0m\u001b[0;34m,\u001b[0m \u001b[0mself\u001b[0m\u001b[0;34m.\u001b[0m\u001b[0mobj\u001b[0m\u001b[0;34m)\u001b[0m\u001b[0;34m\u001b[0m\u001b[0;34m\u001b[0m\u001b[0m\n\u001b[0;32m-> 1073\u001b[0;31m             \u001b[0;32mreturn\u001b[0m \u001b[0mself\u001b[0m\u001b[0;34m.\u001b[0m\u001b[0m_getitem_axis\u001b[0m\u001b[0;34m(\u001b[0m\u001b[0mmaybe_callable\u001b[0m\u001b[0;34m,\u001b[0m \u001b[0maxis\u001b[0m\u001b[0;34m=\u001b[0m\u001b[0maxis\u001b[0m\u001b[0;34m)\u001b[0m\u001b[0;34m\u001b[0m\u001b[0;34m\u001b[0m\u001b[0m\n\u001b[0m\u001b[1;32m   1074\u001b[0m \u001b[0;34m\u001b[0m\u001b[0m\n\u001b[1;32m   1075\u001b[0m     \u001b[0;32mdef\u001b[0m \u001b[0m_is_scalar_access\u001b[0m\u001b[0;34m(\u001b[0m\u001b[0mself\u001b[0m\u001b[0;34m,\u001b[0m \u001b[0mkey\u001b[0m\u001b[0;34m:\u001b[0m \u001b[0mtuple\u001b[0m\u001b[0;34m)\u001b[0m\u001b[0;34m:\u001b[0m\u001b[0;34m\u001b[0m\u001b[0;34m\u001b[0m\u001b[0m\n",
            "\u001b[0;32m/usr/local/lib/python3.10/dist-packages/pandas/core/indexing.py\u001b[0m in \u001b[0;36m_getitem_axis\u001b[0;34m(self, key, axis)\u001b[0m\n\u001b[1;32m   1299\u001b[0m                     \u001b[0;32mraise\u001b[0m \u001b[0mValueError\u001b[0m\u001b[0;34m(\u001b[0m\u001b[0;34m\"Cannot index with multidimensional key\"\u001b[0m\u001b[0;34m)\u001b[0m\u001b[0;34m\u001b[0m\u001b[0;34m\u001b[0m\u001b[0m\n\u001b[1;32m   1300\u001b[0m \u001b[0;34m\u001b[0m\u001b[0m\n\u001b[0;32m-> 1301\u001b[0;31m                 \u001b[0;32mreturn\u001b[0m \u001b[0mself\u001b[0m\u001b[0;34m.\u001b[0m\u001b[0m_getitem_iterable\u001b[0m\u001b[0;34m(\u001b[0m\u001b[0mkey\u001b[0m\u001b[0;34m,\u001b[0m \u001b[0maxis\u001b[0m\u001b[0;34m=\u001b[0m\u001b[0maxis\u001b[0m\u001b[0;34m)\u001b[0m\u001b[0;34m\u001b[0m\u001b[0;34m\u001b[0m\u001b[0m\n\u001b[0m\u001b[1;32m   1302\u001b[0m \u001b[0;34m\u001b[0m\u001b[0m\n\u001b[1;32m   1303\u001b[0m             \u001b[0;31m# nested tuple slicing\u001b[0m\u001b[0;34m\u001b[0m\u001b[0;34m\u001b[0m\u001b[0m\n",
            "\u001b[0;32m/usr/local/lib/python3.10/dist-packages/pandas/core/indexing.py\u001b[0m in \u001b[0;36m_getitem_iterable\u001b[0;34m(self, key, axis)\u001b[0m\n\u001b[1;32m   1237\u001b[0m \u001b[0;34m\u001b[0m\u001b[0m\n\u001b[1;32m   1238\u001b[0m         \u001b[0;31m# A collection of keys\u001b[0m\u001b[0;34m\u001b[0m\u001b[0;34m\u001b[0m\u001b[0m\n\u001b[0;32m-> 1239\u001b[0;31m         \u001b[0mkeyarr\u001b[0m\u001b[0;34m,\u001b[0m \u001b[0mindexer\u001b[0m \u001b[0;34m=\u001b[0m \u001b[0mself\u001b[0m\u001b[0;34m.\u001b[0m\u001b[0m_get_listlike_indexer\u001b[0m\u001b[0;34m(\u001b[0m\u001b[0mkey\u001b[0m\u001b[0;34m,\u001b[0m \u001b[0maxis\u001b[0m\u001b[0;34m)\u001b[0m\u001b[0;34m\u001b[0m\u001b[0;34m\u001b[0m\u001b[0m\n\u001b[0m\u001b[1;32m   1240\u001b[0m         return self.obj._reindex_with_indexers(\n\u001b[1;32m   1241\u001b[0m             \u001b[0;34m{\u001b[0m\u001b[0maxis\u001b[0m\u001b[0;34m:\u001b[0m \u001b[0;34m[\u001b[0m\u001b[0mkeyarr\u001b[0m\u001b[0;34m,\u001b[0m \u001b[0mindexer\u001b[0m\u001b[0;34m]\u001b[0m\u001b[0;34m}\u001b[0m\u001b[0;34m,\u001b[0m \u001b[0mcopy\u001b[0m\u001b[0;34m=\u001b[0m\u001b[0;32mTrue\u001b[0m\u001b[0;34m,\u001b[0m \u001b[0mallow_dups\u001b[0m\u001b[0;34m=\u001b[0m\u001b[0;32mTrue\u001b[0m\u001b[0;34m\u001b[0m\u001b[0;34m\u001b[0m\u001b[0m\n",
            "\u001b[0;32m/usr/local/lib/python3.10/dist-packages/pandas/core/indexing.py\u001b[0m in \u001b[0;36m_get_listlike_indexer\u001b[0;34m(self, key, axis)\u001b[0m\n\u001b[1;32m   1430\u001b[0m         \u001b[0maxis_name\u001b[0m \u001b[0;34m=\u001b[0m \u001b[0mself\u001b[0m\u001b[0;34m.\u001b[0m\u001b[0mobj\u001b[0m\u001b[0;34m.\u001b[0m\u001b[0m_get_axis_name\u001b[0m\u001b[0;34m(\u001b[0m\u001b[0maxis\u001b[0m\u001b[0;34m)\u001b[0m\u001b[0;34m\u001b[0m\u001b[0;34m\u001b[0m\u001b[0m\n\u001b[1;32m   1431\u001b[0m \u001b[0;34m\u001b[0m\u001b[0m\n\u001b[0;32m-> 1432\u001b[0;31m         \u001b[0mkeyarr\u001b[0m\u001b[0;34m,\u001b[0m \u001b[0mindexer\u001b[0m \u001b[0;34m=\u001b[0m \u001b[0max\u001b[0m\u001b[0;34m.\u001b[0m\u001b[0m_get_indexer_strict\u001b[0m\u001b[0;34m(\u001b[0m\u001b[0mkey\u001b[0m\u001b[0;34m,\u001b[0m \u001b[0maxis_name\u001b[0m\u001b[0;34m)\u001b[0m\u001b[0;34m\u001b[0m\u001b[0;34m\u001b[0m\u001b[0m\n\u001b[0m\u001b[1;32m   1433\u001b[0m \u001b[0;34m\u001b[0m\u001b[0m\n\u001b[1;32m   1434\u001b[0m         \u001b[0;32mreturn\u001b[0m \u001b[0mkeyarr\u001b[0m\u001b[0;34m,\u001b[0m \u001b[0mindexer\u001b[0m\u001b[0;34m\u001b[0m\u001b[0;34m\u001b[0m\u001b[0m\n",
            "\u001b[0;32m/usr/local/lib/python3.10/dist-packages/pandas/core/indexes/base.py\u001b[0m in \u001b[0;36m_get_indexer_strict\u001b[0;34m(self, key, axis_name)\u001b[0m\n\u001b[1;32m   6068\u001b[0m             \u001b[0mkeyarr\u001b[0m\u001b[0;34m,\u001b[0m \u001b[0mindexer\u001b[0m\u001b[0;34m,\u001b[0m \u001b[0mnew_indexer\u001b[0m \u001b[0;34m=\u001b[0m \u001b[0mself\u001b[0m\u001b[0;34m.\u001b[0m\u001b[0m_reindex_non_unique\u001b[0m\u001b[0;34m(\u001b[0m\u001b[0mkeyarr\u001b[0m\u001b[0;34m)\u001b[0m\u001b[0;34m\u001b[0m\u001b[0;34m\u001b[0m\u001b[0m\n\u001b[1;32m   6069\u001b[0m \u001b[0;34m\u001b[0m\u001b[0m\n\u001b[0;32m-> 6070\u001b[0;31m         \u001b[0mself\u001b[0m\u001b[0;34m.\u001b[0m\u001b[0m_raise_if_missing\u001b[0m\u001b[0;34m(\u001b[0m\u001b[0mkeyarr\u001b[0m\u001b[0;34m,\u001b[0m \u001b[0mindexer\u001b[0m\u001b[0;34m,\u001b[0m \u001b[0maxis_name\u001b[0m\u001b[0;34m)\u001b[0m\u001b[0;34m\u001b[0m\u001b[0;34m\u001b[0m\u001b[0m\n\u001b[0m\u001b[1;32m   6071\u001b[0m \u001b[0;34m\u001b[0m\u001b[0m\n\u001b[1;32m   6072\u001b[0m         \u001b[0mkeyarr\u001b[0m \u001b[0;34m=\u001b[0m \u001b[0mself\u001b[0m\u001b[0;34m.\u001b[0m\u001b[0mtake\u001b[0m\u001b[0;34m(\u001b[0m\u001b[0mindexer\u001b[0m\u001b[0;34m)\u001b[0m\u001b[0;34m\u001b[0m\u001b[0;34m\u001b[0m\u001b[0m\n",
            "\u001b[0;32m/usr/local/lib/python3.10/dist-packages/pandas/core/indexes/base.py\u001b[0m in \u001b[0;36m_raise_if_missing\u001b[0;34m(self, key, indexer, axis_name)\u001b[0m\n\u001b[1;32m   6128\u001b[0m                 \u001b[0;32mif\u001b[0m \u001b[0muse_interval_msg\u001b[0m\u001b[0;34m:\u001b[0m\u001b[0;34m\u001b[0m\u001b[0;34m\u001b[0m\u001b[0m\n\u001b[1;32m   6129\u001b[0m                     \u001b[0mkey\u001b[0m \u001b[0;34m=\u001b[0m \u001b[0mlist\u001b[0m\u001b[0;34m(\u001b[0m\u001b[0mkey\u001b[0m\u001b[0;34m)\u001b[0m\u001b[0;34m\u001b[0m\u001b[0;34m\u001b[0m\u001b[0m\n\u001b[0;32m-> 6130\u001b[0;31m                 \u001b[0;32mraise\u001b[0m \u001b[0mKeyError\u001b[0m\u001b[0;34m(\u001b[0m\u001b[0;34mf\"None of [{key}] are in the [{axis_name}]\"\u001b[0m\u001b[0;34m)\u001b[0m\u001b[0;34m\u001b[0m\u001b[0;34m\u001b[0m\u001b[0m\n\u001b[0m\u001b[1;32m   6131\u001b[0m \u001b[0;34m\u001b[0m\u001b[0m\n\u001b[1;32m   6132\u001b[0m             \u001b[0mnot_found\u001b[0m \u001b[0;34m=\u001b[0m \u001b[0mlist\u001b[0m\u001b[0;34m(\u001b[0m\u001b[0mensure_index\u001b[0m\u001b[0;34m(\u001b[0m\u001b[0mkey\u001b[0m\u001b[0;34m)\u001b[0m\u001b[0;34m[\u001b[0m\u001b[0mmissing_mask\u001b[0m\u001b[0;34m.\u001b[0m\u001b[0mnonzero\u001b[0m\u001b[0;34m(\u001b[0m\u001b[0;34m)\u001b[0m\u001b[0;34m[\u001b[0m\u001b[0;36m0\u001b[0m\u001b[0;34m]\u001b[0m\u001b[0;34m]\u001b[0m\u001b[0;34m.\u001b[0m\u001b[0munique\u001b[0m\u001b[0;34m(\u001b[0m\u001b[0;34m)\u001b[0m\u001b[0;34m)\u001b[0m\u001b[0;34m\u001b[0m\u001b[0;34m\u001b[0m\u001b[0m\n",
            "\u001b[0;31mKeyError\u001b[0m: \"None of [Index(['DOY'], dtype='object')] are in the [index]\""
          ]
        }
      ]
    },
    {
      "cell_type": "code",
      "source": [
        "for col in df_sT.columns:\n",
        "  print(col)\n",
        "\n",
        "#df_sT_Day = df_sT.loc[:, (\"Day\", \"Temp\")]\n",
        "#df_sT_Day.head"
      ],
      "metadata": {
        "id": "TS5V475E_wxn",
        "colab": {
          "base_uri": "https://localhost:8080/"
        },
        "outputId": "0653f726-9627-49cb-ea6c-960aaf33a696"
      },
      "execution_count": null,
      "outputs": [
        {
          "output_type": "stream",
          "name": "stdout",
          "text": [
            "Unnamed: 0\n",
            "Time\n",
            "Temp\n",
            "Plot\n",
            "Depth\n",
            "Location\n",
            "Day\n",
            "Month\n",
            "Year\n",
            "Hour\n",
            "Min\n",
            "TimeParsed\n",
            "Treatment\n",
            "Date-conv\n",
            "DOY\n"
          ]
        }
      ]
    },
    {
      "cell_type": "code",
      "source": [
        "df_sT.head"
      ],
      "metadata": {
        "colab": {
          "base_uri": "https://localhost:8080/"
        },
        "id": "_7fS_O5jXI7_",
        "outputId": "5464f624-f77d-4240-85a2-17c33df2439f"
      },
      "execution_count": null,
      "outputs": [
        {
          "output_type": "execute_result",
          "data": {
            "text/plain": [
              "<bound method NDFrame.head of         Unnamed: 0               Time  Temp  Plot Depth  Location  Day  Month  \\\n",
              "0                1  21/07/22 21:31:00   9.0   1C1    20         1   21      7   \n",
              "1                2  22/07/22 01:46:00   8.0   1C1    20         1   22      7   \n",
              "2                3  22/07/22 06:01:00   8.0   1C1    20         1   22      7   \n",
              "3                4  22/07/22 10:16:00   7.5   1C1    20         1   22      7   \n",
              "4                5  22/07/22 14:31:00   7.5   1C1    20         1   22      7   \n",
              "...            ...                ...   ...   ...   ...       ...  ...    ...   \n",
              "110452      110453   31/07/2023 20:46   8.0  5LS3     5         5   31      7   \n",
              "110453      110454    01/08/2023 1:01   7.5  5LS3     5         5    1      8   \n",
              "110454      110455    01/08/2023 5:16   7.0  5LS3     5         5    1      8   \n",
              "110455      110456    01/08/2023 9:31   7.5  5LS3     5         5    1      8   \n",
              "110456      110457   01/08/2023 13:46   8.0  5LS3     5         5    1      8   \n",
              "\n",
              "        Year  Hour  Min           TimeParsed Treatment  Date-conv  DOY  \n",
              "0       2022    21   31  2022-07-21 21:31:00         C 2022-07-21  202  \n",
              "1       2022     1   46  2022-07-22 01:46:00         C 2022-07-22  203  \n",
              "2       2022     6    1  2022-07-22 06:01:00         C 2022-07-22  203  \n",
              "3       2022    10   16  2022-07-22 10:16:00         C 2022-07-22  203  \n",
              "4       2022    14   31  2022-07-22 14:31:00         C 2022-07-22  203  \n",
              "...      ...   ...  ...                  ...       ...        ...  ...  \n",
              "110452  2023    20   46  2023-07-31 20:46:00        LS 2023-07-31  212  \n",
              "110453  2023     1    1  2023-08-01 01:01:00        LS 2023-08-01  213  \n",
              "110454  2023     5   16  2023-08-01 05:16:00        LS 2023-08-01  213  \n",
              "110455  2023     9   31  2023-08-01 09:31:00        LS 2023-08-01  213  \n",
              "110456  2023    13   46  2023-08-01 13:46:00        LS 2023-08-01  213  \n",
              "\n",
              "[110457 rows x 15 columns]>"
            ]
          },
          "metadata": {},
          "execution_count": 8
        }
      ]
    },
    {
      "cell_type": "code",
      "source": [],
      "metadata": {
        "id": "-z84InYuBKn9"
      },
      "execution_count": null,
      "outputs": []
    }
  ]
}