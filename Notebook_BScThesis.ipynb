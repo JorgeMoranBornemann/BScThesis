{
  "nbformat": 4,
  "nbformat_minor": 0,
  "metadata": {
    "colab": {
      "provenance": [],
      "toc_visible": true,
      "authorship_tag": "ABX9TyP0f8qECE4jni/798fGuZVt",
      "include_colab_link": true
    },
    "kernelspec": {
      "name": "python3",
      "display_name": "Python 3"
    },
    "language_info": {
      "name": "python"
    }
  },
  "cells": [
    {
      "cell_type": "markdown",
      "metadata": {
        "id": "view-in-github",
        "colab_type": "text"
      },
      "source": [
        "<a href=\"https://colab.research.google.com/github/JorgeMoranBornemann/BScThesis/blob/main/Notebook_BScThesis.ipynb\" target=\"_parent\"><img src=\"https://colab.research.google.com/assets/colab-badge.svg\" alt=\"Open In Colab\"/></a>"
      ]
    },
    {
      "cell_type": "markdown",
      "source": [
        "#**Permafrost thaw data analysis**\n",
        "\n",
        "The purpose of this notebook is to run through the steps, and explain, how the data analysis was performed.\n",
        "\n",
        "It will be divided into several parts.\n",
        "1. Importing data, libraries, dependencies\n",
        "2. SOC - Thaw depth regressions\n",
        "3. Himidity - Thaw depth regressions\n",
        "4. TDD pre-processing\n",
        "5. TTD - thaw depth regressions\n",
        "6. Impact of SOC & Humidity on TTD regression\n",
        "7. Impact of rainfall on TTD regression\n",
        "\n"
      ],
      "metadata": {
        "id": "4OGuQN-kBnOl"
      }
    },
    {
      "cell_type": "code",
      "source": [
        "#Importing required libraries\n",
        "import pandas as pd\n",
        "import numpy as np\n",
        "import math\n",
        "import statistics\n",
        "import matplotlib.pyplot as plt\n",
        "from matplotlib.lines import Line2D\n",
        "import datetime as dt\n",
        "import itertools\n",
        "import seaborn as sns"
      ],
      "metadata": {
        "id": "2yX75ezk_iev"
      },
      "execution_count": null,
      "outputs": []
    },
    {
      "cell_type": "code",
      "source": [
        "# importing the datasets and converting them to pandas dataframes\n",
        "\n",
        "# URLs for the datasets\n",
        "URL_soilmoisture = 'https://raw.githubusercontent.com/JorgeMoranBornemann/BScThesis/main/Datasets/all_soilmoisture.csv'\n",
        "URL_ibuttons_overview = 'https://raw.githubusercontent.com/JorgeMoranBornemann/BScThesis/main/Datasets/ibuttons_overview.csv'\n",
        "URL_SoilTParsed = 'https://raw.githubusercontent.com/JorgeMoranBornemann/BScThesis/main/Datasets/SoilTParsed.csv'\n",
        "URL_all_thawdepth = 'https://raw.githubusercontent.com/JorgeMoranBornemann/BScThesis/main/Datasets/all_thawdepth.csv'\n",
        "URL_irrigationlog = 'https://raw.githubusercontent.com/JorgeMoranBornemann/BScThesis/main/Datasets/irrigationlog.csv'\n",
        "URL_plotcoordinates = 'https://raw.githubusercontent.com/JorgeMoranBornemann/BScThesis/main/Datasets/plot_coordinates.csv'\n",
        "URL_BD_OM = 'https://raw.githubusercontent.com/JorgeMoranBornemann/BScThesis/main/Datasets/PreprocessedBD_OC.csv'\n",
        "\n",
        "# loading the CSV data as pandas df\n",
        "df_sm = pd.read_csv(URL_soilmoisture)\n",
        "df_ib = pd.read_csv(URL_ibuttons_overview)\n",
        "df_sT = pd.read_csv(URL_SoilTParsed)\n",
        "df_tD = pd.read_csv(URL_all_thawdepth)\n",
        "df_ir = pd.read_csv(URL_irrigationlog)\n",
        "df_pl = pd.read_csv(URL_plotcoordinates)\n",
        "df_OM = pd.read_csv(URL_BD_OM)"
      ],
      "metadata": {
        "id": "YinQfpnznCrj"
      },
      "execution_count": null,
      "outputs": []
    },
    {
      "cell_type": "code",
      "source": [
        "df_OM"
      ],
      "metadata": {
        "colab": {
          "base_uri": "https://localhost:8080/",
          "height": 695
        },
        "id": "mk4svvUeD47l",
        "outputId": "c97325f2-86d6-4b9d-851b-220a0f6af706"
      },
      "execution_count": null,
      "outputs": [
        {
          "output_type": "execute_result",
          "data": {
            "text/plain": [
              "     Location Treatment Sample  Bulk Density [kg/m3]  SOM [%]  \\\n",
              "0           5         C   5X13                 926.9  40.2074   \n",
              "1           5         C   5X14                 459.4  43.3569   \n",
              "2           5         C   5X15                 937.8  26.8436   \n",
              "3           5         C   5X16                 642.7  49.6908   \n",
              "4           5         C   5X17                 586.7  62.5511   \n",
              "..        ...       ...    ...                   ...      ...   \n",
              "141         4         C    4C3                   NaN      NaN   \n",
              "142         4         C    4C5                   NaN      NaN   \n",
              "143         4         I    4I6                   NaN      NaN   \n",
              "144         5         C    5X5                   NaN      NaN   \n",
              "145         5         C    5X6                   NaN      NaN   \n",
              "\n",
              "     Moss Layer [cm]    Additional Comments   \n",
              "0                NaN                    NaN   \n",
              "1                NaN                    NaN   \n",
              "2                NaN                   NaN    \n",
              "3                NaN                    NaN   \n",
              "4                NaN                    NaN   \n",
              "..               ...                     ...  \n",
              "141              3.0  too gravely to sample   \n",
              "142              4.0  too gravely to sample   \n",
              "143              5.0  too gravely to sample   \n",
              "144              NaN  too gravely to sample   \n",
              "145              NaN  too gravely to sample   \n",
              "\n",
              "[146 rows x 7 columns]"
            ],
            "text/html": [
              "\n",
              "  <div id=\"df-b14777ee-4376-4e3c-abb7-35a31c1700e7\" class=\"colab-df-container\">\n",
              "    <div>\n",
              "<style scoped>\n",
              "    .dataframe tbody tr th:only-of-type {\n",
              "        vertical-align: middle;\n",
              "    }\n",
              "\n",
              "    .dataframe tbody tr th {\n",
              "        vertical-align: top;\n",
              "    }\n",
              "\n",
              "    .dataframe thead th {\n",
              "        text-align: right;\n",
              "    }\n",
              "</style>\n",
              "<table border=\"1\" class=\"dataframe\">\n",
              "  <thead>\n",
              "    <tr style=\"text-align: right;\">\n",
              "      <th></th>\n",
              "      <th>Location</th>\n",
              "      <th>Treatment</th>\n",
              "      <th>Sample</th>\n",
              "      <th>Bulk Density [kg/m3]</th>\n",
              "      <th>SOM [%]</th>\n",
              "      <th>Moss Layer [cm]</th>\n",
              "      <th>Additional Comments</th>\n",
              "    </tr>\n",
              "  </thead>\n",
              "  <tbody>\n",
              "    <tr>\n",
              "      <th>0</th>\n",
              "      <td>5</td>\n",
              "      <td>C</td>\n",
              "      <td>5X13</td>\n",
              "      <td>926.9</td>\n",
              "      <td>40.2074</td>\n",
              "      <td>NaN</td>\n",
              "      <td>NaN</td>\n",
              "    </tr>\n",
              "    <tr>\n",
              "      <th>1</th>\n",
              "      <td>5</td>\n",
              "      <td>C</td>\n",
              "      <td>5X14</td>\n",
              "      <td>459.4</td>\n",
              "      <td>43.3569</td>\n",
              "      <td>NaN</td>\n",
              "      <td>NaN</td>\n",
              "    </tr>\n",
              "    <tr>\n",
              "      <th>2</th>\n",
              "      <td>5</td>\n",
              "      <td>C</td>\n",
              "      <td>5X15</td>\n",
              "      <td>937.8</td>\n",
              "      <td>26.8436</td>\n",
              "      <td>NaN</td>\n",
              "      <td>NaN</td>\n",
              "    </tr>\n",
              "    <tr>\n",
              "      <th>3</th>\n",
              "      <td>5</td>\n",
              "      <td>C</td>\n",
              "      <td>5X16</td>\n",
              "      <td>642.7</td>\n",
              "      <td>49.6908</td>\n",
              "      <td>NaN</td>\n",
              "      <td>NaN</td>\n",
              "    </tr>\n",
              "    <tr>\n",
              "      <th>4</th>\n",
              "      <td>5</td>\n",
              "      <td>C</td>\n",
              "      <td>5X17</td>\n",
              "      <td>586.7</td>\n",
              "      <td>62.5511</td>\n",
              "      <td>NaN</td>\n",
              "      <td>NaN</td>\n",
              "    </tr>\n",
              "    <tr>\n",
              "      <th>...</th>\n",
              "      <td>...</td>\n",
              "      <td>...</td>\n",
              "      <td>...</td>\n",
              "      <td>...</td>\n",
              "      <td>...</td>\n",
              "      <td>...</td>\n",
              "      <td>...</td>\n",
              "    </tr>\n",
              "    <tr>\n",
              "      <th>141</th>\n",
              "      <td>4</td>\n",
              "      <td>C</td>\n",
              "      <td>4C3</td>\n",
              "      <td>NaN</td>\n",
              "      <td>NaN</td>\n",
              "      <td>3.0</td>\n",
              "      <td>too gravely to sample</td>\n",
              "    </tr>\n",
              "    <tr>\n",
              "      <th>142</th>\n",
              "      <td>4</td>\n",
              "      <td>C</td>\n",
              "      <td>4C5</td>\n",
              "      <td>NaN</td>\n",
              "      <td>NaN</td>\n",
              "      <td>4.0</td>\n",
              "      <td>too gravely to sample</td>\n",
              "    </tr>\n",
              "    <tr>\n",
              "      <th>143</th>\n",
              "      <td>4</td>\n",
              "      <td>I</td>\n",
              "      <td>4I6</td>\n",
              "      <td>NaN</td>\n",
              "      <td>NaN</td>\n",
              "      <td>5.0</td>\n",
              "      <td>too gravely to sample</td>\n",
              "    </tr>\n",
              "    <tr>\n",
              "      <th>144</th>\n",
              "      <td>5</td>\n",
              "      <td>C</td>\n",
              "      <td>5X5</td>\n",
              "      <td>NaN</td>\n",
              "      <td>NaN</td>\n",
              "      <td>NaN</td>\n",
              "      <td>too gravely to sample</td>\n",
              "    </tr>\n",
              "    <tr>\n",
              "      <th>145</th>\n",
              "      <td>5</td>\n",
              "      <td>C</td>\n",
              "      <td>5X6</td>\n",
              "      <td>NaN</td>\n",
              "      <td>NaN</td>\n",
              "      <td>NaN</td>\n",
              "      <td>too gravely to sample</td>\n",
              "    </tr>\n",
              "  </tbody>\n",
              "</table>\n",
              "<p>146 rows × 7 columns</p>\n",
              "</div>\n",
              "    <div class=\"colab-df-buttons\">\n",
              "\n",
              "  <div class=\"colab-df-container\">\n",
              "    <button class=\"colab-df-convert\" onclick=\"convertToInteractive('df-b14777ee-4376-4e3c-abb7-35a31c1700e7')\"\n",
              "            title=\"Convert this dataframe to an interactive table.\"\n",
              "            style=\"display:none;\">\n",
              "\n",
              "  <svg xmlns=\"http://www.w3.org/2000/svg\" height=\"24px\" viewBox=\"0 -960 960 960\">\n",
              "    <path d=\"M120-120v-720h720v720H120Zm60-500h600v-160H180v160Zm220 220h160v-160H400v160Zm0 220h160v-160H400v160ZM180-400h160v-160H180v160Zm440 0h160v-160H620v160ZM180-180h160v-160H180v160Zm440 0h160v-160H620v160Z\"/>\n",
              "  </svg>\n",
              "    </button>\n",
              "\n",
              "  <style>\n",
              "    .colab-df-container {\n",
              "      display:flex;\n",
              "      gap: 12px;\n",
              "    }\n",
              "\n",
              "    .colab-df-convert {\n",
              "      background-color: #E8F0FE;\n",
              "      border: none;\n",
              "      border-radius: 50%;\n",
              "      cursor: pointer;\n",
              "      display: none;\n",
              "      fill: #1967D2;\n",
              "      height: 32px;\n",
              "      padding: 0 0 0 0;\n",
              "      width: 32px;\n",
              "    }\n",
              "\n",
              "    .colab-df-convert:hover {\n",
              "      background-color: #E2EBFA;\n",
              "      box-shadow: 0px 1px 2px rgba(60, 64, 67, 0.3), 0px 1px 3px 1px rgba(60, 64, 67, 0.15);\n",
              "      fill: #174EA6;\n",
              "    }\n",
              "\n",
              "    .colab-df-buttons div {\n",
              "      margin-bottom: 4px;\n",
              "    }\n",
              "\n",
              "    [theme=dark] .colab-df-convert {\n",
              "      background-color: #3B4455;\n",
              "      fill: #D2E3FC;\n",
              "    }\n",
              "\n",
              "    [theme=dark] .colab-df-convert:hover {\n",
              "      background-color: #434B5C;\n",
              "      box-shadow: 0px 1px 3px 1px rgba(0, 0, 0, 0.15);\n",
              "      filter: drop-shadow(0px 1px 2px rgba(0, 0, 0, 0.3));\n",
              "      fill: #FFFFFF;\n",
              "    }\n",
              "  </style>\n",
              "\n",
              "    <script>\n",
              "      const buttonEl =\n",
              "        document.querySelector('#df-b14777ee-4376-4e3c-abb7-35a31c1700e7 button.colab-df-convert');\n",
              "      buttonEl.style.display =\n",
              "        google.colab.kernel.accessAllowed ? 'block' : 'none';\n",
              "\n",
              "      async function convertToInteractive(key) {\n",
              "        const element = document.querySelector('#df-b14777ee-4376-4e3c-abb7-35a31c1700e7');\n",
              "        const dataTable =\n",
              "          await google.colab.kernel.invokeFunction('convertToInteractive',\n",
              "                                                    [key], {});\n",
              "        if (!dataTable) return;\n",
              "\n",
              "        const docLinkHtml = 'Like what you see? Visit the ' +\n",
              "          '<a target=\"_blank\" href=https://colab.research.google.com/notebooks/data_table.ipynb>data table notebook</a>'\n",
              "          + ' to learn more about interactive tables.';\n",
              "        element.innerHTML = '';\n",
              "        dataTable['output_type'] = 'display_data';\n",
              "        await google.colab.output.renderOutput(dataTable, element);\n",
              "        const docLink = document.createElement('div');\n",
              "        docLink.innerHTML = docLinkHtml;\n",
              "        element.appendChild(docLink);\n",
              "      }\n",
              "    </script>\n",
              "  </div>\n",
              "\n",
              "\n",
              "<div id=\"df-eed5b0e7-e1a5-4230-bd8d-c9ee7d51c9bc\">\n",
              "  <button class=\"colab-df-quickchart\" onclick=\"quickchart('df-eed5b0e7-e1a5-4230-bd8d-c9ee7d51c9bc')\"\n",
              "            title=\"Suggest charts\"\n",
              "            style=\"display:none;\">\n",
              "\n",
              "<svg xmlns=\"http://www.w3.org/2000/svg\" height=\"24px\"viewBox=\"0 0 24 24\"\n",
              "     width=\"24px\">\n",
              "    <g>\n",
              "        <path d=\"M19 3H5c-1.1 0-2 .9-2 2v14c0 1.1.9 2 2 2h14c1.1 0 2-.9 2-2V5c0-1.1-.9-2-2-2zM9 17H7v-7h2v7zm4 0h-2V7h2v10zm4 0h-2v-4h2v4z\"/>\n",
              "    </g>\n",
              "</svg>\n",
              "  </button>\n",
              "\n",
              "<style>\n",
              "  .colab-df-quickchart {\n",
              "      --bg-color: #E8F0FE;\n",
              "      --fill-color: #1967D2;\n",
              "      --hover-bg-color: #E2EBFA;\n",
              "      --hover-fill-color: #174EA6;\n",
              "      --disabled-fill-color: #AAA;\n",
              "      --disabled-bg-color: #DDD;\n",
              "  }\n",
              "\n",
              "  [theme=dark] .colab-df-quickchart {\n",
              "      --bg-color: #3B4455;\n",
              "      --fill-color: #D2E3FC;\n",
              "      --hover-bg-color: #434B5C;\n",
              "      --hover-fill-color: #FFFFFF;\n",
              "      --disabled-bg-color: #3B4455;\n",
              "      --disabled-fill-color: #666;\n",
              "  }\n",
              "\n",
              "  .colab-df-quickchart {\n",
              "    background-color: var(--bg-color);\n",
              "    border: none;\n",
              "    border-radius: 50%;\n",
              "    cursor: pointer;\n",
              "    display: none;\n",
              "    fill: var(--fill-color);\n",
              "    height: 32px;\n",
              "    padding: 0;\n",
              "    width: 32px;\n",
              "  }\n",
              "\n",
              "  .colab-df-quickchart:hover {\n",
              "    background-color: var(--hover-bg-color);\n",
              "    box-shadow: 0 1px 2px rgba(60, 64, 67, 0.3), 0 1px 3px 1px rgba(60, 64, 67, 0.15);\n",
              "    fill: var(--button-hover-fill-color);\n",
              "  }\n",
              "\n",
              "  .colab-df-quickchart-complete:disabled,\n",
              "  .colab-df-quickchart-complete:disabled:hover {\n",
              "    background-color: var(--disabled-bg-color);\n",
              "    fill: var(--disabled-fill-color);\n",
              "    box-shadow: none;\n",
              "  }\n",
              "\n",
              "  .colab-df-spinner {\n",
              "    border: 2px solid var(--fill-color);\n",
              "    border-color: transparent;\n",
              "    border-bottom-color: var(--fill-color);\n",
              "    animation:\n",
              "      spin 1s steps(1) infinite;\n",
              "  }\n",
              "\n",
              "  @keyframes spin {\n",
              "    0% {\n",
              "      border-color: transparent;\n",
              "      border-bottom-color: var(--fill-color);\n",
              "      border-left-color: var(--fill-color);\n",
              "    }\n",
              "    20% {\n",
              "      border-color: transparent;\n",
              "      border-left-color: var(--fill-color);\n",
              "      border-top-color: var(--fill-color);\n",
              "    }\n",
              "    30% {\n",
              "      border-color: transparent;\n",
              "      border-left-color: var(--fill-color);\n",
              "      border-top-color: var(--fill-color);\n",
              "      border-right-color: var(--fill-color);\n",
              "    }\n",
              "    40% {\n",
              "      border-color: transparent;\n",
              "      border-right-color: var(--fill-color);\n",
              "      border-top-color: var(--fill-color);\n",
              "    }\n",
              "    60% {\n",
              "      border-color: transparent;\n",
              "      border-right-color: var(--fill-color);\n",
              "    }\n",
              "    80% {\n",
              "      border-color: transparent;\n",
              "      border-right-color: var(--fill-color);\n",
              "      border-bottom-color: var(--fill-color);\n",
              "    }\n",
              "    90% {\n",
              "      border-color: transparent;\n",
              "      border-bottom-color: var(--fill-color);\n",
              "    }\n",
              "  }\n",
              "</style>\n",
              "\n",
              "  <script>\n",
              "    async function quickchart(key) {\n",
              "      const quickchartButtonEl =\n",
              "        document.querySelector('#' + key + ' button');\n",
              "      quickchartButtonEl.disabled = true;  // To prevent multiple clicks.\n",
              "      quickchartButtonEl.classList.add('colab-df-spinner');\n",
              "      try {\n",
              "        const charts = await google.colab.kernel.invokeFunction(\n",
              "            'suggestCharts', [key], {});\n",
              "      } catch (error) {\n",
              "        console.error('Error during call to suggestCharts:', error);\n",
              "      }\n",
              "      quickchartButtonEl.classList.remove('colab-df-spinner');\n",
              "      quickchartButtonEl.classList.add('colab-df-quickchart-complete');\n",
              "    }\n",
              "    (() => {\n",
              "      let quickchartButtonEl =\n",
              "        document.querySelector('#df-eed5b0e7-e1a5-4230-bd8d-c9ee7d51c9bc button');\n",
              "      quickchartButtonEl.style.display =\n",
              "        google.colab.kernel.accessAllowed ? 'block' : 'none';\n",
              "    })();\n",
              "  </script>\n",
              "</div>\n",
              "    </div>\n",
              "  </div>\n"
            ]
          },
          "metadata": {},
          "execution_count": 13
        }
      ]
    },
    {
      "cell_type": "code",
      "source": [
        "\n",
        "# Assuming df_OM is your DataFrame\n",
        "df_OM['Bulk Density [kg/m3]'] = pd.to_numeric(df_OM['Bulk Density [kg/m3]'], errors='coerce')\n",
        "df_OM['SOM [%]'] = pd.to_numeric(df_OM['SOM [%]'], errors='coerce')\n",
        "\n",
        "# Drop rows with NaN values in the specified columns\n",
        "df_OM_cleaned = df_OM.dropna(subset=['Bulk Density [kg/m3]', 'SOM [%]'])\n",
        "\n",
        "# Set a colorblind-friendly palette\n",
        "palette = sns.color_palette('colorblind', n_colors=len(df_OM_cleaned['Location'].unique()))\n",
        "palette = sns.dark_palette(palette[0], reverse=False, n_colors=len(df_OM_cleaned['Location'].unique()))\n",
        "\n",
        "# Create a scatter plot with different colors and markers for each location\n",
        "fig, ax = plt.subplots()\n",
        "for loc, marker in zip(df_OM_cleaned['Location'].unique(), ['o', 's', 'D', '^', 'v']):\n",
        "    subset = df_OM_cleaned[df_OM_cleaned['Location'] == loc]\n",
        "    ax.scatter(subset['Bulk Density [kg/m3]'], subset['SOM [%]'], label=f'Location {loc}', c=palette[loc - 1], marker=marker, s=25)\n",
        "\n",
        "# Create custom legend entries\n",
        "legend_elements = [Line2D([0], [0], marker='o', color='w', label=f'Location {loc}', markerfacecolor=palette[loc - 1], markersize=10, markeredgewidth=0)\n",
        "                   for loc in df_OM_cleaned['Location'].unique()]\n",
        "\n",
        "# Add labels and a custom legend\n",
        "ax.set_xlabel('Bulk Density [kg/m3]')\n",
        "ax.set_ylabel('SOM [%]')\n",
        "ax.set_title('Distribution of OM and BD')\n",
        "ax.legend(handles=legend_elements)\n",
        "\n",
        "# Add transparent axis lines inside the graph\n",
        "ax.spines['top'].set_color('none')\n",
        "ax.spines['right'].set_color('none')\n",
        "ax.xaxis.tick_bottom()\n",
        "ax.yaxis.tick_left()\n",
        "\n",
        "# Add small lines to denote the decimals on the x and y axes\n",
        "ax.xaxis.set_tick_params(width=1)\n",
        "ax.yaxis.set_tick_params(width=1)\n",
        "\n",
        "# Show the plot\n",
        "plt.show()"
      ],
      "metadata": {
        "colab": {
          "base_uri": "https://localhost:8080/",
          "height": 529
        },
        "id": "SVdukPpNiweJ",
        "outputId": "24fc074c-48db-4ab1-eedc-8a74f8547383"
      },
      "execution_count": null,
      "outputs": [
        {
          "output_type": "stream",
          "name": "stderr",
          "text": [
            "<ipython-input-23-7d89dc314d17>:16: UserWarning: *c* argument looks like a single numeric RGB or RGBA sequence, which should be avoided as value-mapping will have precedence in case its length matches with *x* & *y*.  Please use the *color* keyword-argument or provide a 2D array with a single row if you intend to specify the same RGB or RGBA value for all points.\n",
            "  ax.scatter(subset['Bulk Density [kg/m3]'], subset['SOM [%]'], label=f'Location {loc}', c=palette[loc - 1], marker=marker, s=25)\n"
          ]
        },
        {
          "output_type": "display_data",
          "data": {
            "text/plain": [
              "<Figure size 640x480 with 1 Axes>"
            ],
            "image/png": "[encoded data removed]"
          },
          "metadata": {}
        }
      ]
    },
    {
      "cell_type": "code",
      "source": [
        "# Create a scatter plot with different colors for each location\n",
        "\n",
        "# Changing the values in the csv to numeric so matplotlib can work with it\n",
        "df_OM['Bulk Density [kg/m3]'] = pd.to_numeric(df_OM['Bulk Density [kg/m3]'], errors='coerce')\n",
        "df_OM['SOM [%]'] = pd.to_numeric(df_OM['SOM [%]'], errors='coerce')\n",
        "# Drop rows with NaN values in the specified columns\n",
        "df_OM_cleaned = df_OM.dropna(subset=['Bulk Density [kg/m3]', 'SOM [%]'])\n",
        "\n",
        "# Set a colorblind-friendly palette\n",
        "palette = sns.color_palette('colorblind', n_colors=len(df_OM_cleaned['Location'].unique()))\n",
        "\n",
        "colors = df_OM['Location'].map({1: 'blue', 2: 'red', 3: 'green', 4: 'purple', 5:'brown'})\n",
        "plt.scatter(df_OM['Bulk Density [kg/m3]'], df_OM['SOM [%]'], c=colors, )\n",
        "\n",
        "# Create custom legend entries\n",
        "legend_elements = [Line2D([0], [0], marker='o', color='w', label='Location 1', markerfacecolor='blue', markersize=10),\n",
        "                   Line2D([0], [0], marker='o', color='w', label='Location 2', markerfacecolor='red', markersize=10),\n",
        "                   Line2D([0], [0], marker='o', color='w', label='Location 3', markerfacecolor='green', markersize=10),\n",
        "                   Line2D([0], [0], marker='o', color='w', label='Location 4', markerfacecolor='purple', markersize=10),\n",
        "                   Line2D([0], [0], marker='o', color='w', label='Location 5', markerfacecolor='brown', markersize=10) ]\n",
        "\n",
        "# Add labels and a custom legend\n",
        "plt.xlabel('Bulk Density [kg/m3]')\n",
        "plt.ylabel('SOM [%]')\n",
        "plt.title('Distribution of OM and BD ')\n",
        "plt.legend(handles=legend_elements)\n",
        "\n",
        "# Add transparent axis lines inside the graph\n",
        "ax.spines['top'].set_color('none')\n",
        "ax.spines['right'].set_color('none')\n",
        "ax.xaxis.tick_bottom()\n",
        "ax.yaxis.tick_left()\n",
        "\n",
        "# Add small lines to denote the decimals on the x and y axes\n",
        "ax.xaxis.set_tick_params(width=0.5)\n",
        "ax.yaxis.set_tick_params(width=0.5)\n",
        "\n",
        "# Show the plot\n",
        "plt.show()"
      ],
      "metadata": {
        "colab": {
          "base_uri": "https://localhost:8080/",
          "height": 472
        },
        "id": "IpCWg6EPS-gR",
        "outputId": "e0558963-d90d-487c-f579-033c9288b5f0"
      },
      "execution_count": null,
      "outputs": [
        {
          "output_type": "display_data",
          "data": {
            "text/plain": [
              "<Figure size 640x480 with 1 Axes>"
            ],
            "image/png": "[encoded data removed]"
          },
          "metadata": {}
        }
      ]
    },
    {
      "cell_type": "code",
      "source": [
        "data = {'Location': [1, 1, 1, 2, 2, 2, 1, 1], 'Sample': ['1a', '1b', '1c', '2a', '2b', '2c', '1a', '1a'], 'BD': [22, 20, 24, 6, 8, 5, 21, 23], 'OM': [7, 6, 7, 30, 32, 29, 5, 6]}\n",
        "df = pd.DataFrame(data)\n",
        "\n",
        "# Filtering rows where 'Sample' is '1a'\n",
        "sample_1a_df = df[df['Sample'] == '1a']\n",
        "\n",
        "# Calculating average and variance\n",
        "average_value = sample_1a_df['BD'].mean()\n",
        "variance_value = sample_1a_df['OM'].var()\n",
        "\n",
        "print(f'Average Value for 1a samples: {average_value}')\n",
        "print(f'Variance of Value for 1a samples: {variance_value}')\n"
      ],
      "metadata": {
        "colab": {
          "base_uri": "https://localhost:8080/"
        },
        "id": "uDLI-kR2GYmI",
        "outputId": "7edc31da-3ca6-4dc2-882c-cd4d1fd5bda3"
      },
      "execution_count": null,
      "outputs": [
        {
          "output_type": "stream",
          "name": "stdout",
          "text": [
            "Average Value for 1a samples: 22.0\n",
            "Variance of Value for 1a samples: 1.0\n"
          ]
        }
      ]
    },
    {
      "cell_type": "code",
      "source": [
        "# Create a scatter plot with different colors for each location\n",
        "colors = df['Location'].map({1: 'blue', 2: 'red'})\n",
        "plt.scatter(df['BD'], df['OM'], c=colors, )\n",
        "\n",
        "# Create custom legend entries\n",
        "legend_elements = [Line2D([0], [0], marker='o', color='w', label='Location 1', markerfacecolor='blue', markersize=10),\n",
        "                   Line2D([0], [0], marker='o', color='w', label='Location 2', markerfacecolor='red', markersize=10)]\n",
        "\n",
        "# Add labels and a custom legend\n",
        "plt.xlabel('BD')\n",
        "plt.ylabel('OM')\n",
        "plt.title('Distribution of OM and BD ')\n",
        "plt.legend(handles=legend_elements)\n",
        "\n",
        "# Show the plot\n",
        "plt.show()"
      ],
      "metadata": {
        "colab": {
          "base_uri": "https://localhost:8080/",
          "height": 472
        },
        "id": "vcy3MM_ajHed",
        "outputId": "7ac4fa04-7360-4776-b735-036028cf6f2b"
      },
      "execution_count": null,
      "outputs": [
        {
          "output_type": "display_data",
          "data": {
            "text/plain": [
              "<Figure size 640x480 with 1 Axes>"
            ],
            "image/png": "[encoded data removed]"
          },
          "metadata": {}
        }
      ]
    },
    {
      "cell_type": "code",
      "source": [
        "print(df_sm)"
      ],
      "metadata": {
        "colab": {
          "base_uri": "https://localhost:8080/"
        },
        "id": "2eSmYPPHFwJU",
        "outputId": "80694828-e56b-45a4-f7f7-2c4fe74adc45"
      },
      "execution_count": null,
      "outputs": [
        {
          "output_type": "stream",
          "name": "stdout",
          "text": [
            "     location treatment  pair plot       date  DOY  year  cumLS2022  \\\n",
            "0           1         C     1  1C1  7/21/2022  202  2022          0   \n",
            "1           1         I     1  1I1  7/21/2022  202  2022          0   \n",
            "2           1         C     2  1C2  7/21/2022  202  2022          0   \n",
            "3           1         I     2  1I2  7/21/2022  202  2022          0   \n",
            "4           1         C     3  1C3  7/21/2022  202  2022          0   \n",
            "..        ...       ...   ...  ...        ...  ...   ...        ...   \n",
            "751         5         c     2  5C2  7/28/2022  209  2022         10   \n",
            "752         5         i     3  5I3  7/28/2022  209  2022         10   \n",
            "753         5         c     3  5C3  7/28/2022  209  2022         10   \n",
            "754         5         c     6  5C6  7/28/2022  209  2022         10   \n",
            "755         5         i     6  5I6  7/28/2022  209  2022         10   \n",
            "\n",
            "     cumES2023  cumLS2023  ...     B     C     D     E     F     G     H  \\\n",
            "0            0        0.0  ...    31  26.3  21.8  20.8  21.5  21.2  25.8   \n",
            "1            0        0.0  ...  27.9  27.6  29.6    34  33.6  18.5  27.2   \n",
            "2            0        0.0  ...  20.4  22.1  28.1  29.8  19.9  28.6  26.7   \n",
            "3            0        0.0  ...  32.9  29.3    39    33  28.6  31.5  25.8   \n",
            "4            0        0.0  ...  30.9  21.4  31.4  33.7  30.8  30.2  32.2   \n",
            "..         ...        ...  ...   ...   ...   ...   ...   ...   ...   ...   \n",
            "751          0        0.0  ...  17.9  23.1    18  25.6  16.3  14.5  22.7   \n",
            "752          0        0.0  ...  16.6  31.4  29.8  26.7  25.7  19.7  33.1   \n",
            "753          0        0.0  ...  29.9    32  27.3  13.4  24.5  23.7  14.4   \n",
            "754          0        0.0  ...  30.6  18.5  10.3    10  17.4   8.2  32.5   \n",
            "755          0        0.0  ...  12.4  23.6  17.5  21.5  14.5  26.9  17.9   \n",
            "\n",
            "        I round                   note  \n",
            "0    22.4   0.0  *) round 0 = baseline  \n",
            "1    31.3   0.0                    NaN  \n",
            "2    25.1   0.0                    NaN  \n",
            "3    34.3   0.0                    NaN  \n",
            "4    30.8   0.0                    NaN  \n",
            "..    ...   ...                    ...  \n",
            "751    18   NaN                    NaN  \n",
            "752  33.9   NaN                    NaN  \n",
            "753  22.4   NaN                    NaN  \n",
            "754  22.1   NaN                    NaN  \n",
            "755  14.3   NaN                    NaN  \n",
            "\n",
            "[756 rows x 21 columns]\n"
          ]
        }
      ]
    },
    {
      "cell_type": "markdown",
      "source": [
        "**4. TTD-preprocessing**\n",
        "\n",
        "In the following section, we extract the number of thawing degree days (TTD) in consecutive 10-day periods from the SoilTParsed.csv dataset. We also extract the thaw depth at the end of this 10-day period. After this, we will substract each subsequent thaw depth to get the thaw depth difference after each 10-day period, ΔTD. This data will then be stored in a separate dataset."
      ],
      "metadata": {
        "id": "F29qQZNctt3k"
      }
    },
    {
      "cell_type": "code",
      "source": [
        "for col in df_sT.columns:\n",
        "  print(col)"
      ],
      "metadata": {
        "colab": {
          "base_uri": "https://localhost:8080/"
        },
        "id": "Of_h0uFETocQ",
        "outputId": "f9889915-cb13-4719-b683-efa1fe926c17"
      },
      "execution_count": null,
      "outputs": [
        {
          "output_type": "stream",
          "name": "stdout",
          "text": [
            "Unnamed: 0\n",
            "Time\n",
            "Temp\n",
            "Plot\n",
            "Depth\n",
            "Location\n",
            "Day\n",
            "Month\n",
            "Year\n",
            "Hour\n",
            "Min\n",
            "TimeParsed\n",
            "Treatment\n"
          ]
        }
      ]
    },
    {
      "cell_type": "code",
      "source": [
        "#adds a DOY column to the dataframe\n",
        "df_sT['Date-conv'] = pd.to_datetime(df_sT[['Year', 'Month', 'Day']])\n",
        "df_sT['DOY'] = df_sT['Date-conv'].dt.dayofyear\n",
        "\n",
        "\n",
        "df_sT.loc[['DOY']]\n",
        "\n",
        "\n",
        "\n",
        "\n",
        "\n",
        "\n"
      ],
      "metadata": {
        "colab": {
          "base_uri": "https://localhost:8080/",
          "height": 407
        },
        "id": "-sCFFZ3WeI1o",
        "outputId": "9abdf596-c937-4dc5-c504-1aa1d0e1b768"
      },
      "execution_count": null,
      "outputs": [
        {
          "output_type": "error",
          "ename": "KeyError",
          "evalue": "ignored",
          "traceback": [
            "\u001b[0;31m---------------------------------------------------------------------------\u001b[0m",
            "\u001b[0;31mKeyError\u001b[0m                                  Traceback (most recent call last)",
            "\u001b[0;32m<ipython-input-14-e2e058d4581e>\u001b[0m in \u001b[0;36m<cell line: 6>\u001b[0;34m()\u001b[0m\n\u001b[1;32m      4\u001b[0m \u001b[0;34m\u001b[0m\u001b[0m\n\u001b[1;32m      5\u001b[0m \u001b[0;34m\u001b[0m\u001b[0m\n\u001b[0;32m----> 6\u001b[0;31m \u001b[0mdf_sT\u001b[0m\u001b[0;34m.\u001b[0m\u001b[0mloc\u001b[0m\u001b[0;34m[\u001b[0m\u001b[0;34m[\u001b[0m\u001b[0;34m'DOY'\u001b[0m\u001b[0;34m]\u001b[0m\u001b[0;34m]\u001b[0m\u001b[0;34m\u001b[0m\u001b[0;34m\u001b[0m\u001b[0m\n\u001b[0m\u001b[1;32m      7\u001b[0m \u001b[0;34m\u001b[0m\u001b[0m\n\u001b[1;32m      8\u001b[0m \u001b[0;34m\u001b[0m\u001b[0m\n",
            "\u001b[0;32m/usr/local/lib/python3.10/dist-packages/pandas/core/indexing.py\u001b[0m in \u001b[0;36m__getitem__\u001b[0;34m(self, key)\u001b[0m\n\u001b[1;32m   1071\u001b[0m \u001b[0;34m\u001b[0m\u001b[0m\n\u001b[1;32m   1072\u001b[0m             \u001b[0mmaybe_callable\u001b[0m \u001b[0;34m=\u001b[0m \u001b[0mcom\u001b[0m\u001b[0;34m.\u001b[0m\u001b[0mapply_if_callable\u001b[0m\u001b[0;34m(\u001b[0m\u001b[0mkey\u001b[0m\u001b[0;34m,\u001b[0m \u001b[0mself\u001b[0m\u001b[0;34m.\u001b[0m\u001b[0mobj\u001b[0m\u001b[0;34m)\u001b[0m\u001b[0;34m\u001b[0m\u001b[0;34m\u001b[0m\u001b[0m\n\u001b[0;32m-> 1073\u001b[0;31m             \u001b[0;32mreturn\u001b[0m \u001b[0mself\u001b[0m\u001b[0;34m.\u001b[0m\u001b[0m_getitem_axis\u001b[0m\u001b[0;34m(\u001b[0m\u001b[0mmaybe_callable\u001b[0m\u001b[0;34m,\u001b[0m \u001b[0maxis\u001b[0m\u001b[0;34m=\u001b[0m\u001b[0maxis\u001b[0m\u001b[0;34m)\u001b[0m\u001b[0;34m\u001b[0m\u001b[0;34m\u001b[0m\u001b[0m\n\u001b[0m\u001b[1;32m   1074\u001b[0m \u001b[0;34m\u001b[0m\u001b[0m\n\u001b[1;32m   1075\u001b[0m     \u001b[0;32mdef\u001b[0m \u001b[0m_is_scalar_access\u001b[0m\u001b[0;34m(\u001b[0m\u001b[0mself\u001b[0m\u001b[0;34m,\u001b[0m \u001b[0mkey\u001b[0m\u001b[0;34m:\u001b[0m \u001b[0mtuple\u001b[0m\u001b[0;34m)\u001b[0m\u001b[0;34m:\u001b[0m\u001b[0;34m\u001b[0m\u001b[0;34m\u001b[0m\u001b[0m\n",
            "\u001b[0;32m/usr/local/lib/python3.10/dist-packages/pandas/core/indexing.py\u001b[0m in \u001b[0;36m_getitem_axis\u001b[0;34m(self, key, axis)\u001b[0m\n\u001b[1;32m   1299\u001b[0m                     \u001b[0;32mraise\u001b[0m \u001b[0mValueError\u001b[0m\u001b[0;34m(\u001b[0m\u001b[0;34m\"Cannot index with multidimensional key\"\u001b[0m\u001b[0;34m)\u001b[0m\u001b[0;34m\u001b[0m\u001b[0;34m\u001b[0m\u001b[0m\n\u001b[1;32m   1300\u001b[0m \u001b[0;34m\u001b[0m\u001b[0m\n\u001b[0;32m-> 1301\u001b[0;31m                 \u001b[0;32mreturn\u001b[0m \u001b[0mself\u001b[0m\u001b[0;34m.\u001b[0m\u001b[0m_getitem_iterable\u001b[0m\u001b[0;34m(\u001b[0m\u001b[0mkey\u001b[0m\u001b[0;34m,\u001b[0m \u001b[0maxis\u001b[0m\u001b[0;34m=\u001b[0m\u001b[0maxis\u001b[0m\u001b[0;34m)\u001b[0m\u001b[0;34m\u001b[0m\u001b[0;34m\u001b[0m\u001b[0m\n\u001b[0m\u001b[1;32m   1302\u001b[0m \u001b[0;34m\u001b[0m\u001b[0m\n\u001b[1;32m   1303\u001b[0m             \u001b[0;31m# nested tuple slicing\u001b[0m\u001b[0;34m\u001b[0m\u001b[0;34m\u001b[0m\u001b[0m\n",
            "\u001b[0;32m/usr/local/lib/python3.10/dist-packages/pandas/core/indexing.py\u001b[0m in \u001b[0;36m_getitem_iterable\u001b[0;34m(self, key, axis)\u001b[0m\n\u001b[1;32m   1237\u001b[0m \u001b[0;34m\u001b[0m\u001b[0m\n\u001b[1;32m   1238\u001b[0m         \u001b[0;31m# A collection of keys\u001b[0m\u001b[0;34m\u001b[0m\u001b[0;34m\u001b[0m\u001b[0m\n\u001b[0;32m-> 1239\u001b[0;31m         \u001b[0mkeyarr\u001b[0m\u001b[0;34m,\u001b[0m \u001b[0mindexer\u001b[0m \u001b[0;34m=\u001b[0m \u001b[0mself\u001b[0m\u001b[0;34m.\u001b[0m\u001b[0m_get_listlike_indexer\u001b[0m\u001b[0;34m(\u001b[0m\u001b[0mkey\u001b[0m\u001b[0;34m,\u001b[0m \u001b[0maxis\u001b[0m\u001b[0;34m)\u001b[0m\u001b[0;34m\u001b[0m\u001b[0;34m\u001b[0m\u001b[0m\n\u001b[0m\u001b[1;32m   1240\u001b[0m         return self.obj._reindex_with_indexers(\n\u001b[1;32m   1241\u001b[0m             \u001b[0;34m{\u001b[0m\u001b[0maxis\u001b[0m\u001b[0;34m:\u001b[0m \u001b[0;34m[\u001b[0m\u001b[0mkeyarr\u001b[0m\u001b[0;34m,\u001b[0m \u001b[0mindexer\u001b[0m\u001b[0;34m]\u001b[0m\u001b[0;34m}\u001b[0m\u001b[0;34m,\u001b[0m \u001b[0mcopy\u001b[0m\u001b[0;34m=\u001b[0m\u001b[0;32mTrue\u001b[0m\u001b[0;34m,\u001b[0m \u001b[0mallow_dups\u001b[0m\u001b[0;34m=\u001b[0m\u001b[0;32mTrue\u001b[0m\u001b[0;34m\u001b[0m\u001b[0;34m\u001b[0m\u001b[0m\n",
            "\u001b[0;32m/usr/local/lib/python3.10/dist-packages/pandas/core/indexing.py\u001b[0m in \u001b[0;36m_get_listlike_indexer\u001b[0;34m(self, key, axis)\u001b[0m\n\u001b[1;32m   1430\u001b[0m         \u001b[0maxis_name\u001b[0m \u001b[0;34m=\u001b[0m \u001b[0mself\u001b[0m\u001b[0;34m.\u001b[0m\u001b[0mobj\u001b[0m\u001b[0;34m.\u001b[0m\u001b[0m_get_axis_name\u001b[0m\u001b[0;34m(\u001b[0m\u001b[0maxis\u001b[0m\u001b[0;34m)\u001b[0m\u001b[0;34m\u001b[0m\u001b[0;34m\u001b[0m\u001b[0m\n\u001b[1;32m   1431\u001b[0m \u001b[0;34m\u001b[0m\u001b[0m\n\u001b[0;32m-> 1432\u001b[0;31m         \u001b[0mkeyarr\u001b[0m\u001b[0;34m,\u001b[0m \u001b[0mindexer\u001b[0m \u001b[0;34m=\u001b[0m \u001b[0max\u001b[0m\u001b[0;34m.\u001b[0m\u001b[0m_get_indexer_strict\u001b[0m\u001b[0;34m(\u001b[0m\u001b[0mkey\u001b[0m\u001b[0;34m,\u001b[0m \u001b[0maxis_name\u001b[0m\u001b[0;34m)\u001b[0m\u001b[0;34m\u001b[0m\u001b[0;34m\u001b[0m\u001b[0m\n\u001b[0m\u001b[1;32m   1433\u001b[0m \u001b[0;34m\u001b[0m\u001b[0m\n\u001b[1;32m   1434\u001b[0m         \u001b[0;32mreturn\u001b[0m \u001b[0mkeyarr\u001b[0m\u001b[0;34m,\u001b[0m \u001b[0mindexer\u001b[0m\u001b[0;34m\u001b[0m\u001b[0;34m\u001b[0m\u001b[0m\n",
            "\u001b[0;32m/usr/local/lib/python3.10/dist-packages/pandas/core/indexes/base.py\u001b[0m in \u001b[0;36m_get_indexer_strict\u001b[0;34m(self, key, axis_name)\u001b[0m\n\u001b[1;32m   6068\u001b[0m             \u001b[0mkeyarr\u001b[0m\u001b[0;34m,\u001b[0m \u001b[0mindexer\u001b[0m\u001b[0;34m,\u001b[0m \u001b[0mnew_indexer\u001b[0m \u001b[0;34m=\u001b[0m \u001b[0mself\u001b[0m\u001b[0;34m.\u001b[0m\u001b[0m_reindex_non_unique\u001b[0m\u001b[0;34m(\u001b[0m\u001b[0mkeyarr\u001b[0m\u001b[0;34m)\u001b[0m\u001b[0;34m\u001b[0m\u001b[0;34m\u001b[0m\u001b[0m\n\u001b[1;32m   6069\u001b[0m \u001b[0;34m\u001b[0m\u001b[0m\n\u001b[0;32m-> 6070\u001b[0;31m         \u001b[0mself\u001b[0m\u001b[0;34m.\u001b[0m\u001b[0m_raise_if_missing\u001b[0m\u001b[0;34m(\u001b[0m\u001b[0mkeyarr\u001b[0m\u001b[0;34m,\u001b[0m \u001b[0mindexer\u001b[0m\u001b[0;34m,\u001b[0m \u001b[0maxis_name\u001b[0m\u001b[0;34m)\u001b[0m\u001b[0;34m\u001b[0m\u001b[0;34m\u001b[0m\u001b[0m\n\u001b[0m\u001b[1;32m   6071\u001b[0m \u001b[0;34m\u001b[0m\u001b[0m\n\u001b[1;32m   6072\u001b[0m         \u001b[0mkeyarr\u001b[0m \u001b[0;34m=\u001b[0m \u001b[0mself\u001b[0m\u001b[0;34m.\u001b[0m\u001b[0mtake\u001b[0m\u001b[0;34m(\u001b[0m\u001b[0mindexer\u001b[0m\u001b[0;34m)\u001b[0m\u001b[0;34m\u001b[0m\u001b[0;34m\u001b[0m\u001b[0m\n",
            "\u001b[0;32m/usr/local/lib/python3.10/dist-packages/pandas/core/indexes/base.py\u001b[0m in \u001b[0;36m_raise_if_missing\u001b[0;34m(self, key, indexer, axis_name)\u001b[0m\n\u001b[1;32m   6128\u001b[0m                 \u001b[0;32mif\u001b[0m \u001b[0muse_interval_msg\u001b[0m\u001b[0;34m:\u001b[0m\u001b[0;34m\u001b[0m\u001b[0;34m\u001b[0m\u001b[0m\n\u001b[1;32m   6129\u001b[0m                     \u001b[0mkey\u001b[0m \u001b[0;34m=\u001b[0m \u001b[0mlist\u001b[0m\u001b[0;34m(\u001b[0m\u001b[0mkey\u001b[0m\u001b[0;34m)\u001b[0m\u001b[0;34m\u001b[0m\u001b[0;34m\u001b[0m\u001b[0m\n\u001b[0;32m-> 6130\u001b[0;31m                 \u001b[0;32mraise\u001b[0m \u001b[0mKeyError\u001b[0m\u001b[0;34m(\u001b[0m\u001b[0;34mf\"None of [{key}] are in the [{axis_name}]\"\u001b[0m\u001b[0;34m)\u001b[0m\u001b[0;34m\u001b[0m\u001b[0;34m\u001b[0m\u001b[0m\n\u001b[0m\u001b[1;32m   6131\u001b[0m \u001b[0;34m\u001b[0m\u001b[0m\n\u001b[1;32m   6132\u001b[0m             \u001b[0mnot_found\u001b[0m \u001b[0;34m=\u001b[0m \u001b[0mlist\u001b[0m\u001b[0;34m(\u001b[0m\u001b[0mensure_index\u001b[0m\u001b[0;34m(\u001b[0m\u001b[0mkey\u001b[0m\u001b[0;34m)\u001b[0m\u001b[0;34m[\u001b[0m\u001b[0mmissing_mask\u001b[0m\u001b[0;34m.\u001b[0m\u001b[0mnonzero\u001b[0m\u001b[0;34m(\u001b[0m\u001b[0;34m)\u001b[0m\u001b[0;34m[\u001b[0m\u001b[0;36m0\u001b[0m\u001b[0;34m]\u001b[0m\u001b[0;34m]\u001b[0m\u001b[0;34m.\u001b[0m\u001b[0munique\u001b[0m\u001b[0;34m(\u001b[0m\u001b[0;34m)\u001b[0m\u001b[0;34m)\u001b[0m\u001b[0;34m\u001b[0m\u001b[0;34m\u001b[0m\u001b[0m\n",
            "\u001b[0;31mKeyError\u001b[0m: \"None of [Index(['DOY'], dtype='object')] are in the [index]\""
          ]
        }
      ]
    },
    {
      "cell_type": "code",
      "source": [
        "for col in df_sT.columns:\n",
        "  print(col)\n",
        "\n",
        "#df_sT_Day = df_sT.loc[:, (\"Day\", \"Temp\")]\n",
        "#df_sT_Day.head"
      ],
      "metadata": {
        "id": "TS5V475E_wxn",
        "colab": {
          "base_uri": "https://localhost:8080/"
        },
        "outputId": "0653f726-9627-49cb-ea6c-960aaf33a696"
      },
      "execution_count": null,
      "outputs": [
        {
          "output_type": "stream",
          "name": "stdout",
          "text": [
            "Unnamed: 0\n",
            "Time\n",
            "Temp\n",
            "Plot\n",
            "Depth\n",
            "Location\n",
            "Day\n",
            "Month\n",
            "Year\n",
            "Hour\n",
            "Min\n",
            "TimeParsed\n",
            "Treatment\n",
            "Date-conv\n",
            "DOY\n"
          ]
        }
      ]
    },
    {
      "cell_type": "code",
      "source": [
        "df_sT.head"
      ],
      "metadata": {
        "colab": {
          "base_uri": "https://localhost:8080/"
        },
        "id": "_7fS_O5jXI7_",
        "outputId": "5464f624-f77d-4240-85a2-17c33df2439f"
      },
      "execution_count": null,
      "outputs": [
        {
          "output_type": "execute_result",
          "data": {
            "text/plain": [
              "<bound method NDFrame.head of         Unnamed: 0               Time  Temp  Plot Depth  Location  Day  Month  \\\n",
              "0                1  21/07/22 21:31:00   9.0   1C1    20         1   21      7   \n",
              "1                2  22/07/22 01:46:00   8.0   1C1    20         1   22      7   \n",
              "2                3  22/07/22 06:01:00   8.0   1C1    20         1   22      7   \n",
              "3                4  22/07/22 10:16:00   7.5   1C1    20         1   22      7   \n",
              "4                5  22/07/22 14:31:00   7.5   1C1    20         1   22      7   \n",
              "...            ...                ...   ...   ...   ...       ...  ...    ...   \n",
              "110452      110453   31/07/2023 20:46   8.0  5LS3     5         5   31      7   \n",
              "110453      110454    01/08/2023 1:01   7.5  5LS3     5         5    1      8   \n",
              "110454      110455    01/08/2023 5:16   7.0  5LS3     5         5    1      8   \n",
              "110455      110456    01/08/2023 9:31   7.5  5LS3     5         5    1      8   \n",
              "110456      110457   01/08/2023 13:46   8.0  5LS3     5         5    1      8   \n",
              "\n",
              "        Year  Hour  Min           TimeParsed Treatment  Date-conv  DOY  \n",
              "0       2022    21   31  2022-07-21 21:31:00         C 2022-07-21  202  \n",
              "1       2022     1   46  2022-07-22 01:46:00         C 2022-07-22  203  \n",
              "2       2022     6    1  2022-07-22 06:01:00         C 2022-07-22  203  \n",
              "3       2022    10   16  2022-07-22 10:16:00         C 2022-07-22  203  \n",
              "4       2022    14   31  2022-07-22 14:31:00         C 2022-07-22  203  \n",
              "...      ...   ...  ...                  ...       ...        ...  ...  \n",
              "110452  2023    20   46  2023-07-31 20:46:00        LS 2023-07-31  212  \n",
              "110453  2023     1    1  2023-08-01 01:01:00        LS 2023-08-01  213  \n",
              "110454  2023     5   16  2023-08-01 05:16:00        LS 2023-08-01  213  \n",
              "110455  2023     9   31  2023-08-01 09:31:00        LS 2023-08-01  213  \n",
              "110456  2023    13   46  2023-08-01 13:46:00        LS 2023-08-01  213  \n",
              "\n",
              "[110457 rows x 15 columns]>"
            ]
          },
          "metadata": {},
          "execution_count": 8
        }
      ]
    },
    {
      "cell_type": "code",
      "source": [],
      "metadata": {
        "id": "-z84InYuBKn9"
      },
      "execution_count": null,
      "outputs": []
    }
  ]
}